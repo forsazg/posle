{
  "nbformat": 4,
  "nbformat_minor": 0,
  "metadata": {
    "colab": {
      "provenance": [],
      "authorship_tag": "ABX9TyNp3h6GRnzstyLjbxxzBxmI",
      "include_colab_link": true
    },
    "kernelspec": {
      "name": "python3",
      "display_name": "Python 3"
    },
    "language_info": {
      "name": "python"
    }
  },
  "cells": [
    {
      "cell_type": "markdown",
      "metadata": {
        "id": "view-in-github",
        "colab_type": "text"
      },
      "source": [
        "<a href=\"https://colab.research.google.com/github/forsazg/posle/blob/main/(%D0%A4%D0%98%D0%9B%D0%AC%D0%9C%20%D0%A1%D0%9C%D0%9E%D0%A2%D0%A0%D0%95%D0%A2%D0%AC)%20%D0%9F%D0%9E%D0%A1%D0%9B%D0%95%205%20%D0%9D%D0%9D%D0%90%D0%92%D0%A1%D0%95%D0%93%D0%94%D0%90%20%D0%A4%D0%98%D0%9B%D0%AC%D0%9C%202023%20%D0%93%D0%9E%D0%94%D0%90%20%D0%A1%D0%9C%D0%9E%D0%A2%D0%A0%D0%95%D0%A2%D0%AC%20%D0%9E%D0%9D%D0%9B%D0%90%D0%99%D0%9D.ipynb\" target=\"_parent\"><img src=\"https://colab.research.google.com/assets/colab-badge.svg\" alt=\"Open In Colab\"/></a>"
      ]
    },
    {
      "cell_type": "code",
      "execution_count": null,
      "metadata": {
        "id": "B4RpFCO55VKs"
      },
      "outputs": [],
      "source": []
    },
    {
      "cell_type": "markdown",
      "source": [
        "(ФИЛЬМ СМОТРЕТЬ) ПОСЛЕ 5 ННАВСЕГДА ФИЛЬМ 2023 ГОДА СМОТРЕТЬ ОНЛАЙН\n",
        "\n",
        "\n",
        "<p><a href=\"https://0mpiu.9ut2.shop/o/6zk6U\" target=\"_blank\" rel=\"noopener noreferrer\"><img src=\"https://i.imgur.com/2skYgg1.gif?top-gun-maverick\" alt=\"Ver ONE PIECE FILM RED Online\" /></a></p>\n",
        "<p>&nbsp;</p>\n",
        "\n",
        "\n",
        "<p><a href=\"https://linkms.ru/videostok/?payment_system_id=3&tariff_id=333&service_id=1217&key=7d828e2b02&flow=d6e365a05b3eeadb\" target=\"_blank\" rel=\"noopener noreferrer\"><img src=\"https://ingescon.net/wp-content/uploads/2023/01/player.gif\" alt=\"Ver ONE PIECE FILM RED Online\" /></a></p>"
      ],
      "metadata": {
        "id": "dlFM-yul5k8o"
      }
    },
    {
      "cell_type": "code",
      "source": [
        "import IPython\n",
        "import IPython\n",
        "IPython.display.HTML('<h2></h2><iframe width=\"560\" height=\"315\" src=\"https://video.wixstatic.com/video/63c006_3ec91f5fce6b46e186c323a2de2f1c67/480p/mp4/file.mp4\" title=\"YouTube video player\" frameborder=\"0\" allow=\"accelerometer; autoplay; clipboard-write; encrypted-media; gyroscope; picture-in-picture\" allowfullscreen></iframe>')"
      ],
      "metadata": {
        "colab": {
          "base_uri": "https://localhost:8080/",
          "height": 353
        },
        "id": "oKh5ntKqeC_p",
        "outputId": "c3605692-33a1-42d1-96fa-859ccdfddbf4"
      },
      "execution_count": null,
      "outputs": [
        {
          "output_type": "execute_result",
          "data": {
            "text/plain": [
              "<IPython.core.display.HTML object>"
            ],
            "text/html": [
              "<h2></h2><iframe width=\"560\" height=\"315\" src=\"https://video.wixstatic.com/video/63c006_3ec91f5fce6b46e186c323a2de2f1c67/480p/mp4/file.mp4\" title=\"YouTube video player\" frameborder=\"0\" allow=\"accelerometer; autoplay; clipboard-write; encrypted-media; gyroscope; picture-in-picture\" allowfullscreen></iframe>"
            ]
          },
          "metadata": {},
          "execution_count": 1
        }
      ]
    }
  ]
}